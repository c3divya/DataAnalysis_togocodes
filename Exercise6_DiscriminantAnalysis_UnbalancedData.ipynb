{
 "cells": [
  {
   "cell_type": "markdown",
   "metadata": {},
   "source": [
    "## Exercise: Discriminant Analysis and Unbalanced Datasets\n",
    "\n",
    "\n",
    "In this exercise, we will use the handwritten digits data set of Scikit-learn (load_digits). Run the code below. Read the description of the data set and check a sample image. \n"
   ]
  },
  {
   "cell_type": "code",
   "execution_count": 1,
   "metadata": {},
   "outputs": [
    {
     "name": "stdout",
     "output_type": "stream",
     "text": [
      "dict_keys(['data', 'target', 'target_names', 'images', 'DESCR'])\n",
      "Optical Recognition of Handwritten Digits Data Set\n",
      "===================================================\n",
      "\n",
      "Notes\n",
      "-----\n",
      "Data Set Characteristics:\n",
      "    :Number of Instances: 5620\n",
      "    :Number of Attributes: 64\n",
      "    :Attribute Information: 8x8 image of integer pixels in the range 0..16.\n",
      "    :Missing Attribute Values: None\n",
      "    :Creator: E. Alpaydin (alpaydin '@' boun.edu.tr)\n",
      "    :Date: July; 1998\n",
      "\n",
      "This is a copy of the test set of the UCI ML hand-written digits datasets\n",
      "http://archive.ics.uci.edu/ml/datasets/Optical+Recognition+of+Handwritten+Digits\n",
      "\n",
      "The data set contains images of hand-written digits: 10 classes where\n",
      "each class refers to a digit.\n",
      "\n",
      "Preprocessing programs made available by NIST were used to extract\n",
      "normalized bitmaps of handwritten digits from a preprinted form. From a\n",
      "total of 43 people, 30 contributed to the training set and different 13\n",
      "to the test set. 32x32 bitmaps are divided into nonoverlapping blocks of\n",
      "4x4 and the number of on pixels are counted in each block. This generates\n",
      "an input matrix of 8x8 where each element is an integer in the range\n",
      "0..16. This reduces dimensionality and gives invariance to small\n",
      "distortions.\n",
      "\n",
      "For info on NIST preprocessing routines, see M. D. Garris, J. L. Blue, G.\n",
      "T. Candela, D. L. Dimmick, J. Geist, P. J. Grother, S. A. Janet, and C.\n",
      "L. Wilson, NIST Form-Based Handprint Recognition System, NISTIR 5469,\n",
      "1994.\n",
      "\n",
      "References\n",
      "----------\n",
      "  - C. Kaynak (1995) Methods of Combining Multiple Classifiers and Their\n",
      "    Applications to Handwritten Digit Recognition, MSc Thesis, Institute of\n",
      "    Graduate Studies in Science and Engineering, Bogazici University.\n",
      "  - E. Alpaydin, C. Kaynak (1998) Cascading Classifiers, Kybernetika.\n",
      "  - Ken Tang and Ponnuthurai N. Suganthan and Xi Yao and A. Kai Qin.\n",
      "    Linear dimensionalityreduction using relevance weighted LDA. School of\n",
      "    Electrical and Electronic Engineering Nanyang Technological University.\n",
      "    2005.\n",
      "  - Claudio Gentile. A New Approximate Maximal Margin Classification\n",
      "    Algorithm. NIPS. 2000.\n",
      "\n",
      "[  0.   0.   0.  12.  13.   5.   0.   0.   0.   0.   0.  11.  16.   9.   0.\n",
      "   0.   0.   0.   3.  15.  16.   6.   0.   0.   0.   7.  15.  16.  16.   2.\n",
      "   0.   0.   0.   0.   1.  16.  16.   3.   0.   0.   0.   0.   1.  16.  16.\n",
      "   6.   0.   0.   0.   0.   1.  16.  16.   6.   0.   0.   0.   0.   0.  11.\n",
      "  16.  10.   0.   0.]\n"
     ]
    },
    {
     "data": {
      "text/plain": [
       "<matplotlib.figure.Figure at 0x1a176aed68>"
      ]
     },
     "metadata": {},
     "output_type": "display_data"
    },
    {
     "data": {
      "image/png": "[encoded data removed]",
      "text/plain": [
       "<matplotlib.figure.Figure at 0x1a176aedd8>"
      ]
     },
     "metadata": {},
     "output_type": "display_data"
    }
   ],
   "source": [
    "%matplotlib inline\n",
    "import matplotlib.pyplot as plt\n",
    "from sklearn.datasets import load_digits\n",
    "import matplotlib.pyplot as plt \n",
    "from sklearn.discriminant_analysis import LinearDiscriminantAnalysis\n",
    "from sklearn.discriminant_analysis import QuadraticDiscriminantAnalysis\n",
    "from sklearn.model_selection import train_test_split\n",
    "from sklearn.metrics import confusion_matrix, precision_score, recall_score\n",
    "from sklearn.model_selection import cross_val_score\n",
    "import numpy as np\n",
    "import pandas as pd\n",
    "\n",
    "DigitsData=load_digits()\n",
    "print(DigitsData.keys()) \n",
    "print(DigitsData.DESCR) #read description of the dataset\n",
    "print(DigitsData.data[1])\n",
    "\n",
    "#plot one of the images in the data\n",
    "plt.gray() \n",
    "plt.matshow(DigitsData.images[1]) \n",
    "plt.show() "
   ]
  },
  {
   "cell_type": "markdown",
   "metadata": {},
   "source": [
    "#### A) Our objective is to build classfiers that identify digit 9. For this purpose, answer the following (3pts):\n",
    "\n",
    "1) Define the target value to be equal to 1 (or True) only for digit 9, and 0 (or False) otherwise.\n",
    "You can define: y= (DigitsData.target == 9)\n",
    "\n",
    "\n",
    "- Find how many times y is equal to 9 and how many times it is not equal to 9\n",
    "\n",
    "You can use: print(sum(y==True)); print(sum(y==False))\n",
    "\n",
    "\n",
    "COMMENT: what do you observe? Is the dataset for this classification problem balanced or not?"
   ]
  },
  {
   "cell_type": "code",
   "execution_count": 2,
   "metadata": {},
   "outputs": [
    {
     "name": "stdout",
     "output_type": "stream",
     "text": [
      "Y equal to nine 180\n",
      "Y not equal to nine 1617\n"
     ]
    }
   ],
   "source": [
    "# write your code here\n",
    "X_features=DigitsData.data\n",
    "Y_target=np.where(DigitsData.target==9,1,0)\n",
    "\n",
    "count1=sum(x==1 for x in Y_target)\n",
    "count2=sum(x==0 for x in Y_target)\n",
    "#count1=Y_target[Y_target[\"target\"]==1].count()\n",
    "#count2=Y_target[Y_target[\"target\"]==0].count()\n",
    "print(\"Y equal to nine\",count1)\n",
    "print(\"Y not equal to nine\",count2)\n"
   ]
  },
  {
   "cell_type": "markdown",
   "metadata": {},
   "source": [
    "Answer: With the count values we can clearly see that the dataset is imbalanced for this classification problem. \n",
    "It is because the count of y=9 is '180' which is too small than the count of y not equal to 9"
   ]
  },
  {
   "cell_type": "markdown",
   "metadata": {},
   "source": [
    "#### B) Find the accuracy of a dummy classifier (imported below) that always selects the majority class. Use the DigitsData.data as features and y (defined above) as the response. (3pts)\n",
    "\n",
    "     - Use train_test_split with random_state= 0 for splitting the data\n",
    "     - Select dummy classifier with \"most frequent\" strategy as follows: \n",
    "         - dummy_majority=DummyClassifier(strategy='most_frequent')\n"
   ]
  },
  {
   "cell_type": "code",
   "execution_count": 3,
   "metadata": {},
   "outputs": [
    {
     "name": "stdout",
     "output_type": "stream",
     "text": [
      "0.895555555556\n"
     ]
    }
   ],
   "source": [
    "# write your code here\n",
    "from sklearn.dummy import DummyClassifier\n",
    "dummy_majority=DummyClassifier(strategy='most_frequent')\n",
    "X_train,X_test,Y_train,Y_test=train_test_split(X_features,Y_target,random_state=0)\n",
    "\n",
    "model_fit=dummy_majority.fit( X_train,Y_train)\n",
    "accuracy=model_fit.score(X_test,Y_test)\n",
    "\n",
    "print(accuracy)\n",
    "\n",
    "\n"
   ]
  },
  {
   "cell_type": "markdown",
   "metadata": {},
   "source": [
    "#### C) Instead of a dummy classifier, use an LDA classifer (with default threshold) to solve the above classification problem. Find accuracy, confusion matrix, precision, and recall. (5pts)\n",
    "\n",
    "- Note: you may get a warning that features are correlated (collinear). However, we can still get the performance metrics as usual"
   ]
  },
  {
   "cell_type": "code",
   "execution_count": 4,
   "metadata": {},
   "outputs": [
    {
     "name": "stdout",
     "output_type": "stream",
     "text": [
      "Accuracy lda 0.964444444444\n",
      "[[394   9]\n",
      " [  7  40]]\n",
      "0.816326530612\n",
      "0.851063829787\n"
     ]
    },
    {
     "name": "stderr",
     "output_type": "stream",
     "text": [
      "/Users/divya/anaconda3/lib/python3.6/site-packages/sklearn/discriminant_analysis.py:388: UserWarning: Variables are collinear.\n",
      "  warnings.warn(\"Variables are collinear.\")\n"
     ]
    }
   ],
   "source": [
    "# write your code here\n",
    "LDA_model=LinearDiscriminantAnalysis()\n",
    "LDA_fit=LDA_model.fit(X_train,Y_train)\n",
    "accuracy_lda=LDA_fit.score(X_test,Y_test)\n",
    "print(\"Accuracy lda\",accuracy_lda)\n",
    "PredictedOutput=LDA_fit.predict(X_test) # predicted output of classification\n",
    "confusion=confusion_matrix(Y_test,PredictedOutput)\n",
    "print(confusion)\n",
    "print(precision_score(Y_test,PredictedOutput))\n",
    "print(recall_score(Y_test,PredictedOutput))"
   ]
  },
  {
   "cell_type": "markdown",
   "metadata": {},
   "source": [
    "#### D) Use QDA classifer to perform the classification. Find accuracy, confusion matrix, precision, and recall. (5pts)\n",
    "- Note: expect to see a warning that features are correlated (collinear). You can still get performance metrics."
   ]
  },
  {
   "cell_type": "code",
   "execution_count": 5,
   "metadata": {},
   "outputs": [
    {
     "name": "stdout",
     "output_type": "stream",
     "text": [
      "Accuracy QDA 0.762222222222\n",
      "[[297 106]\n",
      " [  1  46]]\n",
      "Precision QDA 0.302631578947\n",
      "Recall QDA 0.978723404255\n"
     ]
    },
    {
     "name": "stderr",
     "output_type": "stream",
     "text": [
      "/Users/divya/anaconda3/lib/python3.6/site-packages/sklearn/discriminant_analysis.py:682: UserWarning: Variables are collinear\n",
      "  warnings.warn(\"Variables are collinear\")\n"
     ]
    }
   ],
   "source": [
    "# write your code here\n",
    "\n",
    "QDA_model=QuadraticDiscriminantAnalysis()\n",
    "QDA_fit=QDA_model.fit(X_train,Y_train)\n",
    "accuracy_QDA=QDA_fit.score(X_test,Y_test)\n",
    "print(\"Accuracy QDA\",accuracy_QDA)\n",
    "PredictedOutput_QDA=QDA_fit.predict(X_test) # predicted output of classification\n",
    "confusion_QDA=confusion_matrix(Y_test,PredictedOutput_QDA)\n",
    "print(confusion_QDA)\n",
    "print(\"Precision QDA\",precision_score(Y_test,PredictedOutput_QDA))\n",
    "print(\"Recall QDA\",recall_score(Y_test,PredictedOutput_QDA))"
   ]
  },
  {
   "cell_type": "markdown",
   "metadata": {},
   "source": [
    "#### E) From the prediction of the QDA, plot the ROC curve. (4pts)"
   ]
  },
  {
   "cell_type": "code",
   "execution_count": 13,
   "metadata": {},
   "outputs": [],
   "source": [
    "from sklearn.metrics import roc_curve,auc\n",
    "y_score=QDA_fit.decision_function(X_test)\n",
    "#y_score\n",
    "\n",
    "\n",
    "fpr,tpr,threshold=roc_curve(Y_test,PredictedOutput_QDA)\n",
    "\n",
    "auc_roc=auc(fpr,tpr)"
   ]
  },
  {
   "cell_type": "code",
   "execution_count": 19,
   "metadata": {},
   "outputs": [
    {
     "data": {
      "image/png": "[encoded data removed]",
      "text/plain": [
       "<matplotlib.figure.Figure at 0x1a1fe33400>"
      ]
     },
     "metadata": {},
     "output_type": "display_data"
    }
   ],
   "source": [
    "plt.title('Receiver Operating Characteristic')\n",
    "plt.plot(fpr, tpr, 'b',label='AUC = %0.2f'% auc_roc)\n",
    "plt.legend(loc='lower right')\n",
    "plt.plot([0,1],[0,1],'r--')\n",
    "plt.xlim([-0.1,1.2])\n",
    "plt.ylim([-0.1,1.2])\n",
    "plt.ylabel('True Positive Rate')\n",
    "plt.xlabel('False Positive Rate')\n",
    "plt.show()"
   ]
  },
  {
   "cell_type": "code",
   "execution_count": null,
   "metadata": {
    "collapsed": true
   },
   "outputs": [],
   "source": []
  }
 ],
 "metadata": {
  "kernelspec": {
   "display_name": "Python 3",
   "language": "python",
   "name": "python3"
  },
  "language_info": {
   "codemirror_mode": {
    "name": "ipython",
    "version": 3
   },
   "file_extension": ".py",
   "mimetype": "text/x-python",
   "name": "python",
   "nbconvert_exporter": "python",
   "pygments_lexer": "ipython3",
   "version": "3.6.2"
  }
 },
 "nbformat": 4,
 "nbformat_minor": 2
}
