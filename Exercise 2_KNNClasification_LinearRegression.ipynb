{
 "cells": [
  {
   "cell_type": "markdown",
   "metadata": {},
   "source": [
    "# Exercise 2\n",
    "\n",
    "## Part I: KNN Classifier\n",
    "\n",
    "In this exercise we implement the KNN for classification of the Iris dataset\n",
    "\n",
    "First, understand the dataset and its contents by finding the keys and reading the description of the dataset by running the code block below "
   ]
  },
  {
   "cell_type": "code",
   "execution_count": 1,
   "metadata": {},
   "outputs": [
    {
     "name": "stdout",
     "output_type": "stream",
     "text": [
      "Keys of the iris_dataset is: dict_keys(['data', 'target', 'target_names', 'DESCR', 'feature_names'])\n"
     ]
    }
   ],
   "source": [
    "from sklearn.datasets import load_iris\n",
    "iris_dataset=load_iris() #creates an object that contains the iris dataset\n",
    "print('Keys of the iris_dataset is:', iris_dataset.keys())"
   ]
  },
  {
   "cell_type": "code",
   "execution_count": 2,
   "metadata": {},
   "outputs": [
    {
     "name": "stdout",
     "output_type": "stream",
     "text": [
      "Iris Plants Database\n",
      "====================\n",
      "\n",
      "Notes\n",
      "-----\n",
      "Data Set Characteristics:\n",
      "    :Number of Instances: 150 (50 in each of three classes)\n",
      "    :Number of Attributes: 4 numeric, predictive attributes and the class\n",
      "    :Attribute Information:\n",
      "        - sepal length in cm\n",
      "        - sepal width in cm\n",
      "        - petal length in cm\n",
      "        - petal width in cm\n",
      "        - class:\n",
      "                - Iris-Setosa\n",
      "                - Iris-Versicolour\n",
      "                - Iris-Virginica\n",
      "    :Summary Statistics:\n",
      "\n",
      "    ============== ==== ==== ======= ===== ====================\n",
      "                    Min  Max   Mean    SD   Class Correlation\n",
      "    ============== ==== ==== ======= ===== ====================\n",
      "    sepal length:   4.3  7.9   5.84   0.83    0.7826\n",
      "    sepal width:    2.0  4.4   3.05   0.43   -0.4194\n",
      "    petal length:   1.0  6.9   3.76   1.76    0.9490  (high!)\n",
      "    petal width:    0.1  2.5   1.20  0.76     0.9565  (high!)\n",
      "    ============== ==== ==== ======= ===== ====================\n",
      "\n",
      "    :Missing Attribute Values: None\n",
      "    :Class Distribution: 33.3% for each of 3 classes.\n",
      "    :Creator: R.A. Fisher\n",
      "    :Donor: Michael Marshall (MARSHALL%PLU@io.arc.nasa.gov)\n",
      "    :Date: July, 1988\n",
      "\n",
      "This is a copy of UCI ML iris datasets.\n",
      "http://archive.ics.uci.edu/ml/datasets/Iris\n",
      "\n",
      "The famous Iris database, first used by Sir R.A Fisher\n",
      "\n",
      "This is perhaps the best known database to be found in the\n",
      "pattern recognition literature.  Fisher's paper is a classic in the field and\n",
      "is referenced frequently to this day.  (See Duda & Hart, for example.)  The\n",
      "data set contains 3 classes of 50 instances each, where each class refers to a\n",
      "type of iris plant.  One class is linearly separable from the other 2; the\n",
      "latter are NOT linearly separable from each other.\n",
      "\n",
      "References\n",
      "----------\n",
      "   - Fisher,R.A. \"The use of multiple measurements in taxonomic problems\"\n",
      "     Annual Eugenics, 7, Part II, 179-188 (1936); also in \"Contributions to\n",
      "     Mathematical Statistics\" (John Wiley, NY, 1950).\n",
      "   - Duda,R.O., & Hart,P.E. (1973) Pattern Classification and Scene Analysis.\n",
      "     (Q327.D83) John Wiley & Sons.  ISBN 0-471-22361-1.  See page 218.\n",
      "   - Dasarathy, B.V. (1980) \"Nosing Around the Neighborhood: A New System\n",
      "     Structure and Classification Rule for Recognition in Partially Exposed\n",
      "     Environments\".  IEEE Transactions on Pattern Analysis and Machine\n",
      "     Intelligence, Vol. PAMI-2, No. 1, 67-71.\n",
      "   - Gates, G.W. (1972) \"The Reduced Nearest Neighbor Rule\".  IEEE Transactions\n",
      "     on Information Theory, May 1972, 431-433.\n",
      "   - See also: 1988 MLC Proceedings, 54-64.  Cheeseman et al\"s AUTOCLASS II\n",
      "     conceptual clustering system finds 3 classes in the data.\n",
      "   - Many, many more ...\n",
      "\n"
     ]
    }
   ],
   "source": [
    "print(iris_dataset.DESCR)"
   ]
  },
  {
   "cell_type": "markdown",
   "metadata": {},
   "source": [
    "A) Classify the Iris species with KNN approach using the first two feature only (X_train[:, : 2], X_test[:, : 2]), and check the accuracy as K changes. Let K takes the values [1, 5, 10, 15]. No need to scale features.\n",
    "In the code, use random_state=100 in train_test_split as below.\n",
    "\n",
    "Plot the accuracy and comment on your result"
   ]
  },
  {
   "cell_type": "code",
   "execution_count": 22,
   "metadata": {},
   "outputs": [
    {
     "data": {
      "text/plain": [
       "[0.73684210526315785,\n",
       " 0.84210526315789469,\n",
       " 0.84210526315789469,\n",
       " 0.76315789473684215]"
      ]
     },
     "execution_count": 22,
     "metadata": {},
     "output_type": "execute_result"
    }
   ],
   "source": [
    "%matplotlib inline\n",
    "import matplotlib.pyplot as plt\n",
    "import pandas as pd\n",
    "from sklearn.neighbors import KNeighborsClassifier \n",
    "import numpy as np\n",
    "from sklearn.model_selection import train_test_split\n",
    "from sklearn import preprocessing\n",
    "\n",
    "\n",
    "test_accuracy=[] # you can use the .append to test_accuracy to store the result\n",
    "X_train, X_test, Y_train, Y_test = train_test_split(iris_dataset['data'],iris_dataset['target'],random_state=100)\n",
    "#complete your code here\n",
    "iris_Xtrain_df=pd.DataFrame(X_train,columns=iris_dataset.feature_names)\n",
    "iris_Xtest_df=pd.DataFrame(X_test,columns=iris_dataset.feature_names)\n",
    "#scatter_matrix=pd.plotting.scatter_matrix(iris_Xtrain_df,c=Y_train, figsize=(15,15))\n",
    "\n",
    "k=[1,5,10,15]\n",
    "for i in k:\n",
    "    knn=KNeighborsClassifier(n_neighbors=i) \n",
    "    knn.fit(iris_Xtrain_df.iloc[:,:2],Y_train)\n",
    "    Accuracy=knn.score(iris_Xtest_df.iloc[:,:2],Y_test)\n",
    "    test_accuracy.append(Accuracy)\n",
    "test_accuracy"
   ]
  },
  {
   "cell_type": "markdown",
   "metadata": {},
   "source": [
    "As we can see that as K value increase the accuracy increase but at k=15 it decreased. We lower K value that is K=1 there is overfitting that is variance is high . When K = 15 then it is underfitting that is high bias is there."
   ]
  },
  {
   "cell_type": "markdown",
   "metadata": {},
   "source": [
    "B) Use the Iris example, and find the accuracy of the KNN approach with K=5 when different number of features is used without scaling. \n",
    "Hint: To use N_features only from training data use: X_train[:, : N_features ]\n",
    "Write down the accuracy when using one, two, three, and the four features\n"
   ]
  },
  {
   "cell_type": "code",
   "execution_count": 26,
   "metadata": {},
   "outputs": [],
   "source": [
    "# You can write you code here\n",
    "feature=[1,2,3,4]\n",
    "accuracy_featurewise=[]\n",
    "\n",
    "for i in feature:\n",
    "    knn=KNeighborsClassifier(n_neighbors=5) \n",
    "    knn.fit(iris_Xtrain_df.iloc[:,:i],Y_train)\n",
    "    Accuracy_f=knn.score(iris_Xtest_df.iloc[:,:i],Y_test)\n",
    "    accuracy_featurewise.append(Accuracy_f)\n"
   ]
  },
  {
   "cell_type": "code",
   "execution_count": 27,
   "metadata": {},
   "outputs": [
    {
     "data": {
      "text/plain": [
       "[0.78947368421052633,\n",
       " 0.84210526315789469,\n",
       " 0.92105263157894735,\n",
       " 0.97368421052631582]"
      ]
     },
     "execution_count": 27,
     "metadata": {},
     "output_type": "execute_result"
    }
   ],
   "source": [
    "accuracy_featurewise"
   ]
  },
  {
   "cell_type": "markdown",
   "metadata": {},
   "source": [
    "C) Repeat B when feature scaling with MinMaxScaler is used"
   ]
  },
  {
   "cell_type": "code",
   "execution_count": 32,
   "metadata": {},
   "outputs": [
    {
     "name": "stdout",
     "output_type": "stream",
     "text": [
      "[0.78947368421052633, 0.84210526315789469, 0.97368421052631582, 0.97368421052631582]\n"
     ]
    }
   ],
   "source": [
    "# You can write you code here\n",
    "scaler=preprocessing.MinMaxScaler().fit(iris_Xtrain_df) \n",
    "X_train_transformed=pd.DataFrame(scaler.transform(iris_Xtrain_df),columns=iris_dataset.feature_names)#apply scaling on training set\n",
    "X_test_transformed=pd.DataFrame(scaler.transform(iris_Xtest_df),columns=iris_dataset.feature_names) #apply scaling on test set\n",
    "\n",
    "feature=[1,2,3,4]\n",
    "accuracy_withscale=[]\n",
    "\n",
    "for i in feature:\n",
    "    knn=KNeighborsClassifier(n_neighbors=5) \n",
    "    knn.fit(X_train_transformed.iloc[:,:i],Y_train)\n",
    "    Accuracy_s=knn.score(X_test_transformed.iloc[:,:i],Y_test)\n",
    "    accuracy_withscale.append(Accuracy_s)\n",
    "print(accuracy_withscale)"
   ]
  },
  {
   "cell_type": "markdown",
   "metadata": {},
   "source": [
    "## Part 2: Linear Regression\n",
    "\n",
    "Using the Scikit-Learn library, fit a linear regression model using advertising trianing set, then find the mean square error of the fitted model using test data. Use random_state= 0 in the train_test_split function."
   ]
  },
  {
   "cell_type": "code",
   "execution_count": 34,
   "metadata": {},
   "outputs": [
    {
     "name": "stdout",
     "output_type": "stream",
     "text": [
      "The intercept is:  2.89257005115\n",
      "The coefficient of TV feature is: [ 0.19900368  0.04416235  0.00116268]\n",
      "mean square error 4.01249752292\n"
     ]
    }
   ],
   "source": [
    "%matplotlib inline\n",
    "import matplotlib.pyplot as plt\n",
    "import numpy as np\n",
    "from sklearn.model_selection import train_test_split\n",
    "from sklearn.linear_model import LinearRegression\n",
    "from sklearn.metrics import mean_squared_error\n",
    "\n",
    "AdvertisingData=pd.read_csv('Advertising.csv')\n",
    "X = AdvertisingData[['Radio', 'TV','Newspaper']].values\n",
    "Y = AdvertisingData.Sales\n",
    "X_train, X_test, Y_train, Y_test= train_test_split(X, Y, random_state= 0)\n",
    "\n",
    "linreg= LinearRegression().fit(X_train, Y_train)\n",
    "print(\"The intercept is: \", linreg.intercept_)\n",
    "print(\"The coefficient of TV feature is:\",linreg.coef_)\n",
    "\n",
    "Target_predicted= linreg.predict(X_test)\n",
    "MSE=mean_squared_error(Y_test,Target_predicted)\n",
    "print('mean square error', MSE)\n",
    "# write you code here to answer the above question"
   ]
  },
  {
   "cell_type": "code",
   "execution_count": null,
   "metadata": {
    "collapsed": true
   },
   "outputs": [],
   "source": []
  }
 ],
 "metadata": {
  "kernelspec": {
   "display_name": "Python 3",
   "language": "python",
   "name": "python3"
  },
  "language_info": {
   "codemirror_mode": {
    "name": "ipython",
    "version": 3
   },
   "file_extension": ".py",
   "mimetype": "text/x-python",
   "name": "python",
   "nbconvert_exporter": "python",
   "pygments_lexer": "ipython3",
   "version": "3.6.2"
  }
 },
 "nbformat": 4,
 "nbformat_minor": 2
}
